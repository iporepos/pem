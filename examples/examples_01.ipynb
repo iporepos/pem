{
 "cells": [
  {
   "cell_type": "markdown",
   "id": "8291c57a7b2aa026",
   "metadata": {},
   "source": [
    "# Examples"
   ]
  },
  {
   "cell_type": "markdown",
   "id": "68f529ba5556f81a",
   "metadata": {},
   "source": [
    "Import module"
   ]
  },
  {
   "cell_type": "code",
   "execution_count": 1,
   "id": "initial_id",
   "metadata": {
    "ExecuteTime": {
     "end_time": "2025-09-13T13:32:41.041629Z",
     "start_time": "2025-09-13T13:32:41.037278Z"
    },
    "collapsed": true,
    "jupyter": {
     "outputs_hidden": true
    }
   },
   "outputs": [],
   "source": [
    "import copyme"
   ]
  },
  {
   "cell_type": "markdown",
   "id": "b8e84fffb316d50",
   "metadata": {},
   "source": [
    "Use function"
   ]
  },
  {
   "cell_type": "code",
   "execution_count": 5,
   "id": "7ad3cfd7c5c42d80",
   "metadata": {
    "ExecuteTime": {
     "end_time": "2025-09-13T13:32:53.357614Z",
     "start_time": "2025-09-13T13:32:53.353141Z"
    }
   },
   "outputs": [],
   "source": [
    "v = copyme.module.add(num1=1, num2=5)"
   ]
  },
  {
   "cell_type": "markdown",
   "id": "80d706b8a900d107",
   "metadata": {},
   "source": [
    "See result"
   ]
  },
  {
   "cell_type": "code",
   "execution_count": 6,
   "id": "3eddf3895801ae7b",
   "metadata": {
    "ExecuteTime": {
     "end_time": "2025-09-13T13:32:54.601365Z",
     "start_time": "2025-09-13T13:32:54.590812Z"
    }
   },
   "outputs": [
    {
     "data": {
      "text/plain": [
       "6"
      ]
     },
     "execution_count": 6,
     "metadata": {},
     "output_type": "execute_result"
    }
   ],
   "source": [
    "v"
   ]
  }
 ],
 "metadata": {
  "kernelspec": {
   "display_name": "Python 3 (ipykernel)",
   "language": "python",
   "name": "python3"
  },
  "language_info": {
   "codemirror_mode": {
    "name": "ipython",
    "version": 3
   },
   "file_extension": ".py",
   "mimetype": "text/x-python",
   "name": "python",
   "nbconvert_exporter": "python",
   "pygments_lexer": "ipython3",
   "version": "3.13.5"
  }
 },
 "nbformat": 4,
 "nbformat_minor": 5
}
